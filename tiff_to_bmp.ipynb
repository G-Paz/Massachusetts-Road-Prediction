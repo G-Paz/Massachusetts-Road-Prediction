{
 "cells": [
  {
   "cell_type": "code",
   "execution_count": 2,
   "metadata": {},
   "outputs": [],
   "source": [
    "from PIL import Image\n",
    "import os"
   ]
  },
  {
   "cell_type": "code",
   "execution_count": 8,
   "metadata": {},
   "outputs": [],
   "source": [
    "x = Image.open(\"archive/tiff/test/10378780_15.tiff\")\n",
    "x.save(\"archive/test.jpg\",\"JPEG\")"
   ]
  },
  {
   "cell_type": "code",
   "execution_count": 19,
   "metadata": {},
   "outputs": [
    {
     "data": {
      "text/plain": [
       "['10378780_15', 'tiff']"
      ]
     },
     "execution_count": 19,
     "metadata": {},
     "output_type": "execute_result"
    }
   ],
   "source": [
    "\"10378780_15.tiff\".split(\".\")[0]"
   ]
  },
  {
   "cell_type": "code",
   "execution_count": 5,
   "metadata": {},
   "outputs": [
    {
     "name": "stdout",
     "output_type": "stream",
     "text": [
      "test\n",
      "test_labels\n",
      "train\n",
      "train_labels\n",
      "val\n",
      "val_labels\n"
     ]
    }
   ],
   "source": [
    "tiff = \"archive/tiff/\"\n",
    "bmp = \"archive/bmp/\"\n",
    "folders = os.listdir(tiff)\n",
    "for folder in folders:\n",
    "    print(folder)\n",
    "    images = os.listdir(tiff + folder)\n",
    "    for image in images:\n",
    "        Image.open(tiff + folder + \"/\" + image).save(bmp + folder + \"/\" + image.split(\".\")[0] + \".bmp\", \"BMP\", subsampling=0, quality=100)\n"
   ]
  }
 ],
 "metadata": {
  "kernelspec": {
   "display_name": "Python 3",
   "language": "python",
   "name": "python3"
  },
  "language_info": {
   "codemirror_mode": {
    "name": "ipython",
    "version": 3
   },
   "file_extension": ".py",
   "mimetype": "text/x-python",
   "name": "python",
   "nbconvert_exporter": "python",
   "pygments_lexer": "ipython3",
   "version": "3.7.9"
  }
 },
 "nbformat": 4,
 "nbformat_minor": 4
}
